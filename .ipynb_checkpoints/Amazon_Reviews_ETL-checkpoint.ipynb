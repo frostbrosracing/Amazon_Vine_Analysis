{
 "cells": [
  {
   "cell_type": "markdown",
   "metadata": {
    "id": "sljzJORsI_V7"
   },
   "source": [
    "### Setup"
   ]
  },
  {
   "cell_type": "code",
   "execution_count": 1,
   "metadata": {
    "colab": {
     "base_uri": "https://localhost:8080/"
    },
    "executionInfo": {
     "elapsed": 39515,
     "status": "ok",
     "timestamp": 1624031599120,
     "user": {
      "displayName": "Sam Frost",
      "photoUrl": "https://lh3.googleusercontent.com/a-/AOh14Gi39QdhtSm9sAKCL6ecQWv6azeRqfd7BmYW3VtEFw=s64",
      "userId": "14455089106495765600"
     },
     "user_tz": 300
    },
    "id": "V58rxea0HqSa",
    "outputId": "fffdfb20-ef24-4330-e2a1-00e0bd971705"
   },
   "outputs": [
    {
     "name": "stdout",
     "output_type": "stream",
     "text": [
      "Hit:1 https://cloud.r-project.org/bin/linux/ubuntu bionic-cran40/ InRelease\n",
      "Ign:2 https://developer.download.nvidia.com/compute/cuda/repos/ubuntu1804/x86_64  InRelease\n",
      "Ign:3 https://developer.download.nvidia.com/compute/machine-learning/repos/ubuntu1804/x86_64  InRelease\n",
      "Hit:4 https://developer.download.nvidia.com/compute/cuda/repos/ubuntu1804/x86_64  Release\n",
      "Hit:5 https://developer.download.nvidia.com/compute/machine-learning/repos/ubuntu1804/x86_64  Release\n",
      "Hit:6 http://ppa.launchpad.net/c2d4u.team/c2d4u4.0+/ubuntu bionic InRelease\n",
      "Get:7 http://security.ubuntu.com/ubuntu bionic-security InRelease [88.7 kB]\n",
      "Hit:9 http://archive.ubuntu.com/ubuntu bionic InRelease\n",
      "Hit:11 http://ppa.launchpad.net/cran/libgit2/ubuntu bionic InRelease\n",
      "Get:12 http://archive.ubuntu.com/ubuntu bionic-updates InRelease [88.7 kB]\n",
      "Hit:13 http://ppa.launchpad.net/deadsnakes/ppa/ubuntu bionic InRelease\n",
      "Get:14 http://archive.ubuntu.com/ubuntu bionic-backports InRelease [74.6 kB]\n",
      "Hit:15 http://ppa.launchpad.net/graphics-drivers/ppa/ubuntu bionic InRelease\n",
      "Fetched 252 kB in 2s (106 kB/s)\n",
      "Reading package lists... Done\n"
     ]
    }
   ],
   "source": [
    "import os\n",
    "# Find the latest version of spark 3.0  from http://www-us.apache.org/dist/spark/ and enter as the spark version\n",
    "# For example:\n",
    "# spark_version = 'spark-3.0.1'\n",
    "spark_version = 'spark-3.1.2'\n",
    "os.environ['SPARK_VERSION']=spark_version\n",
    "\n",
    "# Install Spark and Java\n",
    "!apt-get update\n",
    "!apt-get install openjdk-11-jdk-headless -qq > /dev/null\n",
    "!wget -q http://www-us.apache.org/dist/spark/$SPARK_VERSION/$SPARK_VERSION-bin-hadoop2.7.tgz\n",
    "!tar xf $SPARK_VERSION-bin-hadoop2.7.tgz\n",
    "!pip install -q findspark\n",
    "\n",
    "# Set Environment Variables\n",
    "os.environ[\"JAVA_HOME\"] = \"/usr/lib/jvm/java-11-openjdk-amd64\"\n",
    "os.environ[\"SPARK_HOME\"] = f\"/content/{spark_version}-bin-hadoop2.7\"\n",
    "\n",
    "# Start a SparkSession\n",
    "import findspark\n",
    "findspark.init()"
   ]
  },
  {
   "cell_type": "code",
   "execution_count": 2,
   "metadata": {
    "colab": {
     "base_uri": "https://localhost:8080/"
    },
    "executionInfo": {
     "elapsed": 2010,
     "status": "ok",
     "timestamp": 1624031601120,
     "user": {
      "displayName": "Sam Frost",
      "photoUrl": "https://lh3.googleusercontent.com/a-/AOh14Gi39QdhtSm9sAKCL6ecQWv6azeRqfd7BmYW3VtEFw=s64",
      "userId": "14455089106495765600"
     },
     "user_tz": 300
    },
    "id": "_xKwTpATHqSe",
    "outputId": "52589100-2c02-46f6-a752-4ff1840b0cf9"
   },
   "outputs": [
    {
     "name": "stdout",
     "output_type": "stream",
     "text": [
      "--2021-06-18 15:53:18--  https://jdbc.postgresql.org/download/postgresql-42.2.16.jar\n",
      "Resolving jdbc.postgresql.org (jdbc.postgresql.org)... 72.32.157.228, 2001:4800:3e1:1::228\n",
      "Connecting to jdbc.postgresql.org (jdbc.postgresql.org)|72.32.157.228|:443... connected.\n",
      "HTTP request sent, awaiting response... 200 OK\n",
      "Length: 1002883 (979K) [application/java-archive]\n",
      "Saving to: ‘postgresql-42.2.16.jar.1’\n",
      "\n",
      "postgresql-42.2.16. 100%[===================>] 979.38K  1.21MB/s    in 0.8s    \n",
      "\n",
      "2021-06-18 15:53:20 (1.21 MB/s) - ‘postgresql-42.2.16.jar.1’ saved [1002883/1002883]\n",
      "\n"
     ]
    }
   ],
   "source": [
    "# Download the Postgres driver that will allow Spark to interact with Postgres.\n",
    "!wget https://jdbc.postgresql.org/download/postgresql-42.2.16.jar"
   ]
  },
  {
   "cell_type": "code",
   "execution_count": 3,
   "metadata": {
    "executionInfo": {
     "elapsed": 8744,
     "status": "ok",
     "timestamp": 1624031609861,
     "user": {
      "displayName": "Sam Frost",
      "photoUrl": "https://lh3.googleusercontent.com/a-/AOh14Gi39QdhtSm9sAKCL6ecQWv6azeRqfd7BmYW3VtEFw=s64",
      "userId": "14455089106495765600"
     },
     "user_tz": 300
    },
    "id": "MMqDAjVS0KN9"
   },
   "outputs": [],
   "source": [
    "from pyspark.sql import SparkSession\n",
    "spark = SparkSession.builder.appName(\"BigData-Challenge\").config(\"spark.driver.extraClassPath\",\"/content/postgresql-42.2.16.jar\").getOrCreate()"
   ]
  },
  {
   "cell_type": "markdown",
   "metadata": {
    "id": "cyBsySGuY-9V"
   },
   "source": [
    "### Load Amazon Data into Spark DataFrame"
   ]
  },
  {
   "cell_type": "code",
   "execution_count": 43,
   "metadata": {
    "colab": {
     "base_uri": "https://localhost:8080/"
    },
    "executionInfo": {
     "elapsed": 12839,
     "status": "ok",
     "timestamp": 1624035129219,
     "user": {
      "displayName": "Sam Frost",
      "photoUrl": "https://lh3.googleusercontent.com/a-/AOh14Gi39QdhtSm9sAKCL6ecQWv6azeRqfd7BmYW3VtEFw=s64",
      "userId": "14455089106495765600"
     },
     "user_tz": 300
    },
    "id": "CtCmBhQJY-9Z",
    "outputId": "cb5474bd-1607-4c26-9add-b6814d7514a9"
   },
   "outputs": [
    {
     "name": "stdout",
     "output_type": "stream",
     "text": [
      "+-----------+-----------+--------------+----------+--------------+--------------------+----------------+-----------+-------------+-----------+----+-----------------+--------------------+--------------------+-----------+\n",
      "|marketplace|customer_id|     review_id|product_id|product_parent|       product_title|product_category|star_rating|helpful_votes|total_votes|vine|verified_purchase|     review_headline|         review_body|review_date|\n",
      "+-----------+-----------+--------------+----------+--------------+--------------------+----------------+-----------+-------------+-----------+----+-----------------+--------------------+--------------------+-----------+\n",
      "|         US|   15785389|R2UM5QMHBHC90Q|B00H5U9ZD6|     115362950|WallPeg 12 sq ft ...|           Tools|          5|            0|          0|   N|                Y|Great organizer, ...|Very nice. Will o...| 2015-08-31|\n",
      "|         US|   47910848|  RF0D1LEIF6L7|B001TJGCS0|     570955425|Nite Ize Nite Daw...|           Tools|          4|            0|          0|   N|                Y|Like it, but the ...|Like it, but the ...| 2015-08-31|\n",
      "|         US|   36328996|  RM6YKIWQVNSY|B000NIK8JW|     128843593|Stanley 84-058 4 ...|           Tools|          1|            6|          6|   N|                Y|        poor quality|We were excited t...| 2015-08-31|\n",
      "|         US|   51785809|R1RL3L68ASPS36|B008ZYRGUA|     407828107|Powerextra 14.4V ...|           Tools|          4|            0|          0|   N|                Y|          Four Stars|Quick delivery. P...| 2015-08-31|\n",
      "|         US|   40757491|R1U4XFBFAG34CY|B00K5CA0GC|     490746675|Waterproof Invisi...|           Tools|          5|            0|          0|   N|                Y|          Five Stars|Quality waterproo...| 2015-08-31|\n",
      "|         US|   35544833|R3KFIK8P0I91PL|B00AIJAA94|     148352067|Crime Scene Do No...|           Tools|          5|            0|          0|   N|                Y|Excellent Decorat...|Ordered for my hu...| 2015-08-31|\n",
      "|         US|   16474909| RENOAY76PPK1O|B00JKEI6K8|     331801084|Aweek® 2 Pcs Bicy...|           Tools|          5|            0|          0|   N|                Y|          Five Stars|GREAT SELLER PROD...| 2015-08-31|\n",
      "|         US|   22601598| RINV884I0NL5V|B00AGCHVS6|     471514859|Ryobi P102 Genuin...|           Tools|          1|            0|          0|   N|                Y|Worked great for ...|My battery has di...| 2015-08-31|\n",
      "|         US|   16129808| R5KJH6CXZH2PX|B002S0O7U4|     162253576|Wiha 66995 6-Piec...|           Tools|          5|            0|          0|   N|                Y|       Great quality|Great product at ...| 2015-08-31|\n",
      "|         US|   24382335| RO69JF6QWD0W1|B0084YHXMW|      69530650|TOMTOP LED Submar...|           Tools|          5|            0|          0|   N|                Y|          Five Stars|           Excellent| 2015-08-31|\n",
      "|         US|   49796324|R3L9NQBH3FI55C|B00MLSS1SW|     916693555|Black & Decker BD...|           Tools|          4|            1|          1|   N|                Y|Really worked great!|This little sande...| 2015-08-31|\n",
      "|         US|   33289687| R4YH95YPHVU0C|B00D4WLS2A|      39333316|Crain 126 Staple ...|           Tools|          5|            0|          0|   N|                Y|         LOVE IT!!!!|This is the most ...| 2015-08-31|\n",
      "|         US|   10916386|R10M1WWDDQBGG2|B00JGCDV5Y|     550596607|Diamond Semi Roun...|           Tools|          2|            0|          0|   N|                Y|I needed to cut s...|I needed to cut s...| 2015-08-31|\n",
      "|         US|   34071500| RV3KWQBTNIO62|B00N0PS3YM|     735538025|It Mall 9 LED 375...|           Tools|          5|            1|          1|   N|                Y|   Works pretty well|Lights up small d...| 2015-08-31|\n",
      "|         US|   50594486|R1M7YUNLZI0G9F|B0000DD4KV|     506501960|IRWIN Tools Metri...|           Tools|          5|            1|          1|   N|                Y|          Five Stars|Great product for...| 2015-08-31|\n",
      "|         US|   21945887|R2MTL2D4E4HEF4|B0009H5FB8|     268586246|743022-A Backing ...|           Tools|          5|            0|          0|   N|                Y|          Five Stars|Many thanks for t...| 2015-08-31|\n",
      "|         US|   47749608| RXAHWIC1584UQ|B00NKSMPZW|     824618679|ClearArmor 141001...|           Tools|          5|           20|         23|   N|                Y|          Five Stars|geart product :) ...| 2015-08-31|\n",
      "|         US|   48880662| RMOIQFERVQDWS|B00RBAB92K|     156791442|KKmoon 9cm Mini A...|           Tools|          5|            0|          0|   N|                Y|          Five Stars|           very good| 2015-08-31|\n",
      "|         US|    4660265| R710G45MKODY9|B00QGBNZVI|     962324810|Refun E6 High Pow...|           Tools|          2|            1|          1|   N|                Y|           Two Stars|Scratches on lenses.| 2015-08-31|\n",
      "|         US|   18397238|R23ZIUGUM7TBMY|B00XXU3CDG|     543062309|Dr.meter S20 Mois...|           Tools|          1|            0|          1|   N|                Y|Don't waste your ...|It's a piece of $...| 2015-08-31|\n",
      "+-----------+-----------+--------------+----------+--------------+--------------------+----------------+-----------+-------------+-----------+----+-----------------+--------------------+--------------------+-----------+\n",
      "only showing top 20 rows\n",
      "\n"
     ]
    }
   ],
   "source": [
    "from pyspark import SparkFiles\n",
    "url = \"https://s3.amazonaws.com/amazon-reviews-pds/tsv/amazon_reviews_us_Tools_v1_00.tsv.gz\"\n",
    "spark.sparkContext.addFile(url)\n",
    "df = spark.read.option(\"encoding\", \"UTF-8\").csv(SparkFiles.get(\"\"), sep=\"\\t\", header=True, inferSchema=True)\n",
    "df.show()"
   ]
  },
  {
   "cell_type": "markdown",
   "metadata": {
    "id": "2yUSe55VY-9t"
   },
   "source": [
    "### Create DataFrames to match tables"
   ]
  },
  {
   "cell_type": "code",
   "execution_count": 5,
   "metadata": {
    "executionInfo": {
     "elapsed": 4,
     "status": "ok",
     "timestamp": 1624031676061,
     "user": {
      "displayName": "Sam Frost",
      "photoUrl": "https://lh3.googleusercontent.com/a-/AOh14Gi39QdhtSm9sAKCL6ecQWv6azeRqfd7BmYW3VtEFw=s64",
      "userId": "14455089106495765600"
     },
     "user_tz": 300
    },
    "id": "C8REmY1aY-9u"
   },
   "outputs": [],
   "source": [
    "from pyspark.sql.functions import to_date\n",
    "# Read in the Review dataset as a DataFrame"
   ]
  },
  {
   "cell_type": "code",
   "execution_count": 6,
   "metadata": {
    "colab": {
     "base_uri": "https://localhost:8080/"
    },
    "executionInfo": {
     "elapsed": 12645,
     "status": "ok",
     "timestamp": 1624031688703,
     "user": {
      "displayName": "Sam Frost",
      "photoUrl": "https://lh3.googleusercontent.com/a-/AOh14Gi39QdhtSm9sAKCL6ecQWv6azeRqfd7BmYW3VtEFw=s64",
      "userId": "14455089106495765600"
     },
     "user_tz": 300
    },
    "id": "B0TESUDRY-90",
    "outputId": "12ff385f-4b15-4881-a74b-44c79f3d5fa3"
   },
   "outputs": [
    {
     "name": "stdout",
     "output_type": "stream",
     "text": [
      "+-----------+--------------+\n",
      "|customer_id|customer_count|\n",
      "+-----------+--------------+\n",
      "|   45978717|             2|\n",
      "|   43622307|             1|\n",
      "|     740678|             4|\n",
      "|   29045703|             1|\n",
      "|   52484548|             3|\n",
      "|   42560427|             4|\n",
      "|   17067926|             1|\n",
      "|   10093406|             1|\n",
      "|   44979559|             1|\n",
      "|   19432125|             1|\n",
      "|   26079415|             1|\n",
      "|   29931671|             1|\n",
      "|   12945150|             3|\n",
      "|   12036434|             1|\n",
      "|   14230926|             1|\n",
      "|   45015535|             1|\n",
      "|   39064792|             1|\n",
      "|   20709090|             1|\n",
      "|   45074906|             1|\n",
      "|   26767269|             2|\n",
      "+-----------+--------------+\n",
      "only showing top 20 rows\n",
      "\n"
     ]
    }
   ],
   "source": [
    "# Create the customers_table DataFrame\n",
    "customers_df = df.groupby(\"customer_id\").agg({\"customer_id\": \"count\"}).withColumnRenamed(\"count(customer_id)\", \"customer_count\")\n",
    "customers_df.show()"
   ]
  },
  {
   "cell_type": "code",
   "execution_count": 61,
   "metadata": {
    "colab": {
     "base_uri": "https://localhost:8080/"
    },
    "executionInfo": {
     "elapsed": 12512,
     "status": "ok",
     "timestamp": 1624036690088,
     "user": {
      "displayName": "Sam Frost",
      "photoUrl": "https://lh3.googleusercontent.com/a-/AOh14Gi39QdhtSm9sAKCL6ecQWv6azeRqfd7BmYW3VtEFw=s64",
      "userId": "14455089106495765600"
     },
     "user_tz": 300
    },
    "id": "iIf5Ebw-GyAo",
    "outputId": "fe39416c-1089-4c16-cb01-eec9238b04f2"
   },
   "outputs": [
    {
     "name": "stdout",
     "output_type": "stream",
     "text": [
      "1053515\n"
     ]
    }
   ],
   "source": [
    "print(customers_df.count())"
   ]
  },
  {
   "cell_type": "code",
   "execution_count": 53,
   "metadata": {
    "colab": {
     "base_uri": "https://localhost:8080/"
    },
    "executionInfo": {
     "elapsed": 15143,
     "status": "ok",
     "timestamp": 1624035856551,
     "user": {
      "displayName": "Sam Frost",
      "photoUrl": "https://lh3.googleusercontent.com/a-/AOh14Gi39QdhtSm9sAKCL6ecQWv6azeRqfd7BmYW3VtEFw=s64",
      "userId": "14455089106495765600"
     },
     "user_tz": 300
    },
    "id": "4FwXA6UvY-96",
    "outputId": "a6e89f15-fbe2-4f87-b4a1-7c3b87f93e17"
   },
   "outputs": [
    {
     "name": "stdout",
     "output_type": "stream",
     "text": [
      "+----------+--------------------+\n",
      "|product_id|       product_title|\n",
      "+----------+--------------------+\n",
      "|5473197302|Himalaya Bresol B...|\n",
      "|B0000222VC|PORTER-CABLE 3969...|\n",
      "|B00002232Y|DEWALT DW423K 5-I...|\n",
      "|B0000223KA|Hitachi C7SBK 7-1...|\n",
      "|B0000223RU|3M 81403 3-Inch b...|\n",
      "|B0000223YS|Woodstock W1006 3...|\n",
      "|B000022429|Rousseau 3510 Com...|\n",
      "|B000022627|HTC Tool Saver Ju...|\n",
      "|B00002N5QC|McGuire Nicholas ...|\n",
      "|B00002N9E1|Shop-Vac 90671, T...|\n",
      "|B00002X2DD|Goldblatt Blue St...|\n",
      "|B00002X2FG|Stanley 42-748 48...|\n",
      "|B0000302U3|Bosch 3960K-CC 24...|\n",
      "|B00003030K|SK SKT45170 Profe...|\n",
      "|B00004RK0B|Freud 900-00 Size...|\n",
      "|B00004SBD9|Channellock 526 6...|\n",
      "|B00004SQ3C|GearWrench 2956D ...|\n",
      "|B00004T7IQ|Freud 44-100 1/2-...|\n",
      "|B00004W4AI|Sonin 10045 Multi...|\n",
      "|B00004W5PY|DEWALT DW255 6-Am...|\n",
      "+----------+--------------------+\n",
      "only showing top 20 rows\n",
      "\n"
     ]
    }
   ],
   "source": [
    "# Create the products_table DataFrame and drop duplicates. \n",
    "products_df = df.select(['product_id', 'product_title']).drop_duplicates(['product_id'])\n",
    "products_df.show()"
   ]
  },
  {
   "cell_type": "code",
   "execution_count": 60,
   "metadata": {
    "colab": {
     "base_uri": "https://localhost:8080/"
    },
    "executionInfo": {
     "elapsed": 11857,
     "status": "ok",
     "timestamp": 1624036667412,
     "user": {
      "displayName": "Sam Frost",
      "photoUrl": "https://lh3.googleusercontent.com/a-/AOh14Gi39QdhtSm9sAKCL6ecQWv6azeRqfd7BmYW3VtEFw=s64",
      "userId": "14455089106495765600"
     },
     "user_tz": 300
    },
    "id": "nkpZoMf__YlS",
    "outputId": "d8010ca5-d84e-4d70-d2fc-781b034377b7"
   },
   "outputs": [
    {
     "name": "stdout",
     "output_type": "stream",
     "text": [
      "183810\n"
     ]
    }
   ],
   "source": [
    "print(products_df.count())"
   ]
  },
  {
   "cell_type": "code",
   "execution_count": 25,
   "metadata": {
    "colab": {
     "base_uri": "https://localhost:8080/"
    },
    "executionInfo": {
     "elapsed": 249,
     "status": "ok",
     "timestamp": 1624034284373,
     "user": {
      "displayName": "Sam Frost",
      "photoUrl": "https://lh3.googleusercontent.com/a-/AOh14Gi39QdhtSm9sAKCL6ecQWv6azeRqfd7BmYW3VtEFw=s64",
      "userId": "14455089106495765600"
     },
     "user_tz": 300
    },
    "id": "MkqyCuNQY-9-",
    "outputId": "3560c485-53ea-48cf-a66a-df40e2956130"
   },
   "outputs": [
    {
     "name": "stdout",
     "output_type": "stream",
     "text": [
      "+--------------+-----------+----------+--------------+-----------+\n",
      "|     review_id|customer_id|product_id|product_parent|review_date|\n",
      "+--------------+-----------+----------+--------------+-----------+\n",
      "|R2UM5QMHBHC90Q|   15785389|B00H5U9ZD6|     115362950| 2015-08-31|\n",
      "|  RF0D1LEIF6L7|   47910848|B001TJGCS0|     570955425| 2015-08-31|\n",
      "|  RM6YKIWQVNSY|   36328996|B000NIK8JW|     128843593| 2015-08-31|\n",
      "|R1RL3L68ASPS36|   51785809|B008ZYRGUA|     407828107| 2015-08-31|\n",
      "|R1U4XFBFAG34CY|   40757491|B00K5CA0GC|     490746675| 2015-08-31|\n",
      "|R3KFIK8P0I91PL|   35544833|B00AIJAA94|     148352067| 2015-08-31|\n",
      "| RENOAY76PPK1O|   16474909|B00JKEI6K8|     331801084| 2015-08-31|\n",
      "| RINV884I0NL5V|   22601598|B00AGCHVS6|     471514859| 2015-08-31|\n",
      "| R5KJH6CXZH2PX|   16129808|B002S0O7U4|     162253576| 2015-08-31|\n",
      "| RO69JF6QWD0W1|   24382335|B0084YHXMW|      69530650| 2015-08-31|\n",
      "|R3L9NQBH3FI55C|   49796324|B00MLSS1SW|     916693555| 2015-08-31|\n",
      "| R4YH95YPHVU0C|   33289687|B00D4WLS2A|      39333316| 2015-08-31|\n",
      "|R10M1WWDDQBGG2|   10916386|B00JGCDV5Y|     550596607| 2015-08-31|\n",
      "| RV3KWQBTNIO62|   34071500|B00N0PS3YM|     735538025| 2015-08-31|\n",
      "|R1M7YUNLZI0G9F|   50594486|B0000DD4KV|     506501960| 2015-08-31|\n",
      "|R2MTL2D4E4HEF4|   21945887|B0009H5FB8|     268586246| 2015-08-31|\n",
      "| RXAHWIC1584UQ|   47749608|B00NKSMPZW|     824618679| 2015-08-31|\n",
      "| RMOIQFERVQDWS|   48880662|B00RBAB92K|     156791442| 2015-08-31|\n",
      "| R710G45MKODY9|    4660265|B00QGBNZVI|     962324810| 2015-08-31|\n",
      "|R23ZIUGUM7TBMY|   18397238|B00XXU3CDG|     543062309| 2015-08-31|\n",
      "+--------------+-----------+----------+--------------+-----------+\n",
      "only showing top 20 rows\n",
      "\n"
     ]
    }
   ],
   "source": [
    "# Create the review_id_table DataFrame. \n",
    "# Convert the 'review_date' column to a date datatype with to_date(\"review_date\", 'yyyy-MM-dd').alias(\"review_date\")\n",
    "review_id_df = df.select(['review_id', 'customer_id', 'product_id', 'product_parent', to_date(\"review_date\", 'yyyy-MM-dd').alias(\"review_date\")])\n",
    "review_id_df.show()"
   ]
  },
  {
   "cell_type": "code",
   "execution_count": 58,
   "metadata": {
    "colab": {
     "base_uri": "https://localhost:8080/"
    },
    "executionInfo": {
     "elapsed": 7207,
     "status": "ok",
     "timestamp": 1624036633103,
     "user": {
      "displayName": "Sam Frost",
      "photoUrl": "https://lh3.googleusercontent.com/a-/AOh14Gi39QdhtSm9sAKCL6ecQWv6azeRqfd7BmYW3VtEFw=s64",
      "userId": "14455089106495765600"
     },
     "user_tz": 300
    },
    "id": "LD9mPAjMHzC0",
    "outputId": "a657d239-d361-49f3-d7ac-483e9f192b53"
   },
   "outputs": [
    {
     "name": "stdout",
     "output_type": "stream",
     "text": [
      "1741100\n"
     ]
    }
   ],
   "source": [
    "print(review_id_df.count())"
   ]
  },
  {
   "cell_type": "code",
   "execution_count": 26,
   "metadata": {
    "colab": {
     "base_uri": "https://localhost:8080/"
    },
    "executionInfo": {
     "elapsed": 236,
     "status": "ok",
     "timestamp": 1624034291546,
     "user": {
      "displayName": "Sam Frost",
      "photoUrl": "https://lh3.googleusercontent.com/a-/AOh14Gi39QdhtSm9sAKCL6ecQWv6azeRqfd7BmYW3VtEFw=s64",
      "userId": "14455089106495765600"
     },
     "user_tz": 300
    },
    "id": "lzMmkdKmY--D",
    "outputId": "6b1c2c35-4983-46c4-be1a-20df15e61f3a"
   },
   "outputs": [
    {
     "name": "stdout",
     "output_type": "stream",
     "text": [
      "+--------------+-----------+-------------+-----------+----+-----------------+\n",
      "|     review_id|star_rating|helpful_votes|total_votes|vine|verified_purchase|\n",
      "+--------------+-----------+-------------+-----------+----+-----------------+\n",
      "|R2UM5QMHBHC90Q|          5|            0|          0|   N|                Y|\n",
      "|  RF0D1LEIF6L7|          4|            0|          0|   N|                Y|\n",
      "|  RM6YKIWQVNSY|          1|            6|          6|   N|                Y|\n",
      "|R1RL3L68ASPS36|          4|            0|          0|   N|                Y|\n",
      "|R1U4XFBFAG34CY|          5|            0|          0|   N|                Y|\n",
      "|R3KFIK8P0I91PL|          5|            0|          0|   N|                Y|\n",
      "| RENOAY76PPK1O|          5|            0|          0|   N|                Y|\n",
      "| RINV884I0NL5V|          1|            0|          0|   N|                Y|\n",
      "| R5KJH6CXZH2PX|          5|            0|          0|   N|                Y|\n",
      "| RO69JF6QWD0W1|          5|            0|          0|   N|                Y|\n",
      "|R3L9NQBH3FI55C|          4|            1|          1|   N|                Y|\n",
      "| R4YH95YPHVU0C|          5|            0|          0|   N|                Y|\n",
      "|R10M1WWDDQBGG2|          2|            0|          0|   N|                Y|\n",
      "| RV3KWQBTNIO62|          5|            1|          1|   N|                Y|\n",
      "|R1M7YUNLZI0G9F|          5|            1|          1|   N|                Y|\n",
      "|R2MTL2D4E4HEF4|          5|            0|          0|   N|                Y|\n",
      "| RXAHWIC1584UQ|          5|           20|         23|   N|                Y|\n",
      "| RMOIQFERVQDWS|          5|            0|          0|   N|                Y|\n",
      "| R710G45MKODY9|          2|            1|          1|   N|                Y|\n",
      "|R23ZIUGUM7TBMY|          1|            0|          1|   N|                Y|\n",
      "+--------------+-----------+-------------+-----------+----+-----------------+\n",
      "only showing top 20 rows\n",
      "\n"
     ]
    }
   ],
   "source": [
    "# Create the vine_table. DataFrame\n",
    "vine_df = df.select(['review_id', 'star_rating', 'helpful_votes', 'total_votes', 'vine', 'verified_purchase'])\n",
    "vine_df.show()"
   ]
  },
  {
   "cell_type": "code",
   "execution_count": 67,
   "metadata": {
    "executionInfo": {
     "elapsed": 270,
     "status": "ok",
     "timestamp": 1624038118831,
     "user": {
      "displayName": "Sam Frost",
      "photoUrl": "https://lh3.googleusercontent.com/a-/AOh14Gi39QdhtSm9sAKCL6ecQWv6azeRqfd7BmYW3VtEFw=s64",
      "userId": "14455089106495765600"
     },
     "user_tz": 300
    },
    "id": "BGJX7b3cNZ25"
   },
   "outputs": [],
   "source": [
    "from pyspark.sql.types import IntegerType\n",
    "vine_df = vine_df.withColumn(\"star_rating\", vine_df[\"star_rating\"].cast(IntegerType()))"
   ]
  },
  {
   "cell_type": "code",
   "execution_count": 68,
   "metadata": {
    "colab": {
     "base_uri": "https://localhost:8080/"
    },
    "executionInfo": {
     "elapsed": 251,
     "status": "ok",
     "timestamp": 1624038121166,
     "user": {
      "displayName": "Sam Frost",
      "photoUrl": "https://lh3.googleusercontent.com/a-/AOh14Gi39QdhtSm9sAKCL6ecQWv6azeRqfd7BmYW3VtEFw=s64",
      "userId": "14455089106495765600"
     },
     "user_tz": 300
    },
    "id": "jDvzowLNMGJa",
    "outputId": "0d574766-8f3c-4a2b-b81e-fc21745197eb"
   },
   "outputs": [
    {
     "data": {
      "text/plain": [
       "[('review_id', 'string'),\n",
       " ('star_rating', 'int'),\n",
       " ('helpful_votes', 'int'),\n",
       " ('total_votes', 'int'),\n",
       " ('vine', 'string'),\n",
       " ('verified_purchase', 'string')]"
      ]
     },
     "execution_count": 68,
     "metadata": {
      "tags": []
     },
     "output_type": "execute_result"
    }
   ],
   "source": [
    "vine_df.dtypes"
   ]
  },
  {
   "cell_type": "code",
   "execution_count": 62,
   "metadata": {
    "colab": {
     "base_uri": "https://localhost:8080/"
    },
    "executionInfo": {
     "elapsed": 7232,
     "status": "ok",
     "timestamp": 1624036740528,
     "user": {
      "displayName": "Sam Frost",
      "photoUrl": "https://lh3.googleusercontent.com/a-/AOh14Gi39QdhtSm9sAKCL6ecQWv6azeRqfd7BmYW3VtEFw=s64",
      "userId": "14455089106495765600"
     },
     "user_tz": 300
    },
    "id": "wJ-ltKuZIcSU",
    "outputId": "4b4d24e1-81bb-41bd-c4b6-8106385677fb"
   },
   "outputs": [
    {
     "name": "stdout",
     "output_type": "stream",
     "text": [
      "1741100\n"
     ]
    }
   ],
   "source": [
    "print(vine_df.count())"
   ]
  },
  {
   "cell_type": "markdown",
   "metadata": {
    "id": "jITZhLkmY--J"
   },
   "source": [
    "### Connect to the AWS RDS instance and write each DataFrame to its table. "
   ]
  },
  {
   "cell_type": "code",
   "execution_count": 15,
   "metadata": {
    "colab": {
     "base_uri": "https://localhost:8080/"
    },
    "executionInfo": {
     "elapsed": 4495,
     "status": "ok",
     "timestamp": 1624031844666,
     "user": {
      "displayName": "Sam Frost",
      "photoUrl": "https://lh3.googleusercontent.com/a-/AOh14Gi39QdhtSm9sAKCL6ecQWv6azeRqfd7BmYW3VtEFw=s64",
      "userId": "14455089106495765600"
     },
     "user_tz": 300
    },
    "id": "7jiUvs1aY--L",
    "outputId": "2a72e02e-691b-49b9-9b07-febf13b2ec13"
   },
   "outputs": [
    {
     "name": "stdout",
     "output_type": "stream",
     "text": [
      "Enter Database Password··········\n"
     ]
    }
   ],
   "source": [
    "# Store environmental variable\n",
    "from getpass import getpass\n",
    "password = getpass('Enter Database Password')\n",
    "\n",
    "# Configure settings for RDS\n",
    "mode = \"append\"\n",
    "jdbc_url=\"jdbc:postgresql://module16db.clbwykjnocgm.us-east-1.rds.amazonaws.com:5432/challenge_db\"\n",
    "config = {\"user\":\"postgres\", \n",
    "          \"password\": password, \n",
    "          \"driver\":\"org.postgresql.Driver\"}"
   ]
  },
  {
   "cell_type": "code",
   "execution_count": 16,
   "metadata": {
    "executionInfo": {
     "elapsed": 1347866,
     "status": "ok",
     "timestamp": 1624033195497,
     "user": {
      "displayName": "Sam Frost",
      "photoUrl": "https://lh3.googleusercontent.com/a-/AOh14Gi39QdhtSm9sAKCL6ecQWv6azeRqfd7BmYW3VtEFw=s64",
      "userId": "14455089106495765600"
     },
     "user_tz": 300
    },
    "id": "T2zgZ-aKY--Q"
   },
   "outputs": [],
   "source": [
    "# Write review_id_df to table in RDS\n",
    "review_id_df.write.jdbc(url=jdbc_url, table='review_id_table', mode=mode, properties=config)"
   ]
  },
  {
   "cell_type": "code",
   "execution_count": 55,
   "metadata": {
    "executionInfo": {
     "elapsed": 390363,
     "status": "ok",
     "timestamp": 1624036333332,
     "user": {
      "displayName": "Sam Frost",
      "photoUrl": "https://lh3.googleusercontent.com/a-/AOh14Gi39QdhtSm9sAKCL6ecQWv6azeRqfd7BmYW3VtEFw=s64",
      "userId": "14455089106495765600"
     },
     "user_tz": 300
    },
    "id": "1m3yzn-LY--U"
   },
   "outputs": [],
   "source": [
    "# Write products_df to table in RDS\n",
    "# about 3 min\n",
    "products_df.write.jdbc(url=jdbc_url, table='products_table', mode=mode, properties=config)"
   ]
  },
  {
   "cell_type": "code",
   "execution_count": 63,
   "metadata": {
    "executionInfo": {
     "elapsed": 680113,
     "status": "ok",
     "timestamp": 1624037437372,
     "user": {
      "displayName": "Sam Frost",
      "photoUrl": "https://lh3.googleusercontent.com/a-/AOh14Gi39QdhtSm9sAKCL6ecQWv6azeRqfd7BmYW3VtEFw=s64",
      "userId": "14455089106495765600"
     },
     "user_tz": 300
    },
    "id": "KbXri15fY--Z"
   },
   "outputs": [],
   "source": [
    "# Write customers_df to table in RDS\n",
    "# 5 min 14 s\n",
    "customers_df.write.jdbc(url=jdbc_url, table='customers_table', mode=mode, properties=config)"
   ]
  },
  {
   "cell_type": "code",
   "execution_count": 69,
   "metadata": {
    "executionInfo": {
     "elapsed": 1332303,
     "status": "ok",
     "timestamp": 1624039464358,
     "user": {
      "displayName": "Sam Frost",
      "photoUrl": "https://lh3.googleusercontent.com/a-/AOh14Gi39QdhtSm9sAKCL6ecQWv6azeRqfd7BmYW3VtEFw=s64",
      "userId": "14455089106495765600"
     },
     "user_tz": 300
    },
    "id": "XdQknSHLY--e"
   },
   "outputs": [],
   "source": [
    "# Write vine_df to table in RDS\n",
    "# 11 minutes\n",
    "vine_df.write.jdbc(url=jdbc_url, table='vine_table', mode=mode, properties=config)"
   ]
  },
  {
   "cell_type": "code",
   "execution_count": null,
   "metadata": {
    "executionInfo": {
     "elapsed": 6,
     "status": "aborted",
     "timestamp": 1624031709915,
     "user": {
      "displayName": "Sam Frost",
      "photoUrl": "https://lh3.googleusercontent.com/a-/AOh14Gi39QdhtSm9sAKCL6ecQWv6azeRqfd7BmYW3VtEFw=s64",
      "userId": "14455089106495765600"
     },
     "user_tz": 300
    },
    "id": "Exuo6ebUsCqW"
   },
   "outputs": [],
   "source": []
  }
 ],
 "metadata": {
  "colab": {
   "collapsed_sections": [],
   "name": "Amazon_Reviews_ETL.ipynb",
   "provenance": []
  },
  "kernelspec": {
   "display_name": "PythonData",
   "language": "python",
   "name": "pythondata"
  },
  "language_info": {
   "codemirror_mode": {
    "name": "ipython",
    "version": 3
   },
   "file_extension": ".py",
   "mimetype": "text/x-python",
   "name": "python",
   "nbconvert_exporter": "python",
   "pygments_lexer": "ipython3",
   "version": "3.7.9"
  },
  "nteract": {
   "version": "0.12.3"
  }
 },
 "nbformat": 4,
 "nbformat_minor": 1
}
